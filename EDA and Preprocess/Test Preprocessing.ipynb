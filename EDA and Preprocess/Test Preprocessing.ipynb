{
 "cells": [
  {
   "cell_type": "code",
   "execution_count": 1,
   "id": "c04c55e1",
   "metadata": {},
   "outputs": [],
   "source": [
    "import pandas as pd\n",
    "import numpy as np \n",
    "\n",
    "import seaborn as sns\n",
    "import matplotlib.pyplot as plt"
   ]
  },
  {
   "cell_type": "code",
   "execution_count": 2,
   "id": "28738928",
   "metadata": {},
   "outputs": [],
   "source": [
    "full_submission = pd.read_csv(\"Data/Kaggle/full_submission.csv\")\n",
    "test_full = pd.read_csv(\"Data/Kaggle/test-full.csv\")\n"
   ]
  },
  {
   "cell_type": "code",
   "execution_count": null,
   "id": "2ac83ff0",
   "metadata": {},
   "outputs": [],
   "source": []
  },
  {
   "cell_type": "markdown",
   "id": "ca121add",
   "metadata": {},
   "source": [
    "# Hydrology Engineering"
   ]
  },
  {
   "cell_type": "code",
   "execution_count": 3,
   "id": "5a37e863",
   "metadata": {},
   "outputs": [],
   "source": [
    "test_full.loc[:, 'Euclidian_Distance'] = np.sqrt((test_full['Vertical_Distance_To_Hydrology'] ** 2) + (test_full['Horizontal_Distance_To_Hydrology'] ** 2))\n",
    "test_full.loc[:, 'Hydrology_Ratio'] = test_full['Vertical_Distance_To_Hydrology'] / test_full['Horizontal_Distance_To_Hydrology']\n",
    "test_full.loc[:, 'Hydrology_Ratio'].fillna(0, inplace=True)\n",
    "# IDEA: \"Horizontal_Distance_To_Hydrology\" and \"Vertical_Distance_To_Hydrology\" are highly correlated --> Euclidean distance to hydrology.\n",
    "# PRACTICE: Doesnt really seem to make sense"
   ]
  },
  {
   "cell_type": "markdown",
   "id": "0293dea1",
   "metadata": {},
   "source": [
    "# Hillshade Enginnering"
   ]
  },
  {
   "cell_type": "code",
   "execution_count": 4,
   "id": "fb7ab58d",
   "metadata": {},
   "outputs": [],
   "source": [
    "import numpy as np\n",
    "\n",
    "# Calculate mean Hillshade\n",
    "def calculate_mean_hillshade(df):\n",
    "    df['Mean_Hillshade'] = df[['Hillshade_9am', 'Hillshade_Noon', 'Hillshade_3pm']].mean(axis=1)\n",
    "    return df\n",
    "\n",
    "# Calculate median Hillshade\n",
    "def calculate_median_hillshade(df):\n",
    "    df['Median_Hillshade'] = df[['Hillshade_9am', 'Hillshade_Noon', 'Hillshade_3pm']].median(axis=1)\n",
    "    return df\n",
    "\n",
    "# Calculate standard deviation of Hillshade\n",
    "def calculate_std_hillshade(df):\n",
    "    df['Std_Hillshade'] = df[['Hillshade_9am', 'Hillshade_Noon', 'Hillshade_3pm']].std(axis=1)\n",
    "    return df\n",
    "\n",
    "# Calculate range of Hillshade\n",
    "def calculate_range_hillshade(df):\n",
    "    df['Range_Hillshade'] = df[['Hillshade_9am', 'Hillshade_Noon', 'Hillshade_3pm']].max(axis=1) - df[['Hillshade_9am', 'Hillshade_Noon', 'Hillshade_3pm']].min(axis=1)\n",
    "    return df\n",
    "\n",
    "# Calculate differences between Hillshade indices\n",
    "def calculate_hillshade_differences(df):\n",
    "    df['Diff_9am_Noon'] = df['Hillshade_9am'] - df['Hillshade_Noon']\n",
    "    df['Diff_Noon_3pm'] = df['Hillshade_Noon'] - df['Hillshade_3pm']\n",
    "    df['Diff_9am_3pm'] = df['Hillshade_9am'] - df['Hillshade_3pm']\n",
    "    return df\n",
    "\n",
    "test_full = calculate_mean_hillshade(test_full)\n",
    "test_full = calculate_median_hillshade(test_full)\n",
    "test_full = calculate_std_hillshade(test_full)\n",
    "test_full = calculate_range_hillshade(test_full)\n",
    "test_full = calculate_hillshade_differences(test_full)\n"
   ]
  },
  {
   "cell_type": "markdown",
   "id": "6ac6ecc0",
   "metadata": {},
   "source": [
    "# Soiltype Engineering"
   ]
  },
  {
   "cell_type": "code",
   "execution_count": 5,
   "id": "58b10702",
   "metadata": {},
   "outputs": [
    {
     "data": {
      "text/plain": [
       "'\\nFirst digit: climatic zone\\n\\n1: lower montane dry: -\\n2: lower montane: 1-6\\n3: montane dry: 7, 8\\n4: montane: 9-13\\n5: montane dry and montane: 14, 15 # Should we add these two two the two previous ones each ? \\n6: montane and subalpine: 16-18\\n7: subalpine: 19-34\\n8: alpine: 35-40\\nSecond digit: geologic zones\\n\\n1: alluvium: 14-17, 19-21\\n2: glacial: 9, 22, 23\\n3: shale: -\\n4: sandstone: -\\n5: mixed sedimentary: 7, 8\\n6: unspecified in the USFS ELU Survey: -\\n7: igneous and metamorphic: 1-6, 10-13, 18, 24-40\\n8: volcanic: -\\n\\n\\nThe third and fourth ELU digits are unique to the mapping unit and have no special meaning to the climatic or geologic zones.\\n\\n'"
      ]
     },
     "execution_count": 5,
     "metadata": {},
     "output_type": "execute_result"
    }
   ],
   "source": [
    "\"\"\"\n",
    "First digit: climatic zone\n",
    "\n",
    "1: lower montane dry: -\n",
    "2: lower montane: 1-6\n",
    "3: montane dry: 7, 8\n",
    "4: montane: 9-13\n",
    "5: montane dry and montane: 14, 15 # Should we add these two two the two previous ones each ? \n",
    "6: montane and subalpine: 16-18\n",
    "7: subalpine: 19-34\n",
    "8: alpine: 35-40\n",
    "Second digit: geologic zones\n",
    "\n",
    "1: alluvium: 14-17, 19-21\n",
    "2: glacial: 9, 22, 23\n",
    "3: shale: -\n",
    "4: sandstone: -\n",
    "5: mixed sedimentary: 7, 8\n",
    "6: unspecified in the USFS ELU Survey: -\n",
    "7: igneous and metamorphic: 1-6, 10-13, 18, 24-40\n",
    "8: volcanic: -\n",
    "\n",
    "\n",
    "The third and fourth ELU digits are unique to the mapping unit and have no special meaning to the climatic or geologic zones.\n",
    "\n",
    "\"\"\""
   ]
  },
  {
   "cell_type": "code",
   "execution_count": 6,
   "id": "68be58c2",
   "metadata": {},
   "outputs": [],
   "source": [
    "# First digit: climatic zone\n",
    "test_full.loc[:, 'lower_montane'] = test_full.loc[:, [col for col in test_full if col.endswith(tuple(f'Type{i}' for i in range (1, 7)))]].sum(axis=1)\n",
    "test_full.loc[:, 'montane_dry'] = test_full.loc[:, [col for col in test_full if col.endswith(('Type7', 'Type8'))]].sum(axis=1)\n",
    "test_full.loc[:, 'montane'] = test_full.loc[:, [col for col in test_full if col.endswith(tuple(f'Type{i}' for i in range (9, 14)))]].sum(axis=1)\n",
    "test_full.loc[:, 'montane_dry_and_montane'] = test_full.loc[:, [col for col in test_full if col.endswith(('Type14', 'Type15'))]].sum(axis=1)\n",
    "test_full.loc[:, 'montane_and_subalpine'] = test_full.loc[:, [col for col in test_full if col.endswith(('Type16', 'Type17', 'Type18'))]].sum(axis=1)\n",
    "test_full.loc[:, 'subalpine'] = test_full.loc[:, [col for col in test_full if col.endswith(tuple(f'Type{i}' for i in range (19, 35)))]].sum(axis=1)\n",
    "test_full.loc[:, 'alpine'] = test_full.loc[:, [col for col in test_full if col.endswith(tuple(f'Type{i}' for i in range (35, 41)))]].sum(axis=1)\n"
   ]
  },
  {
   "cell_type": "code",
   "execution_count": 7,
   "id": "4562c94f",
   "metadata": {},
   "outputs": [],
   "source": [
    "# Second digit: geologic zones\n",
    "\n",
    "test_full.loc[:, 'alluvium'] = test_full.loc[:, [col for col in test_full if col.endswith(tuple(f'Type{i}' for i in range (14, 8)) + tuple(f'Type{i}' for i in range (19, 21)))]].sum(axis=1)\n",
    "test_full.loc[:, 'glacial'] = test_full.loc[:, [col for col in test_full if col.endswith(('Type9', 'Type22', 'Type23'))]].sum(axis=1)\n",
    "test_full.loc[:, 'mixed_sedimentary'] = test_full.loc[:, [col for col in test_full if col.endswith(('Type7', 'Type8'))]].sum(axis=1)\n",
    "test_full.loc[:, 'igneous_and_metamorphic'] = test_full.loc[:, [col for col in test_full if col.endswith(tuple(f'Type{i}' for i in range (1, 7)) + tuple(f'Type{i}' for i in range (10, 14)) + tuple(['Type18']) + tuple(f'Type{i}' for i in range (24, 41)))]].sum(axis=1)\n"
   ]
  },
  {
   "cell_type": "markdown",
   "id": "551a318f",
   "metadata": {},
   "source": [
    "# Aspect Enginnering"
   ]
  },
  {
   "cell_type": "code",
   "execution_count": 8,
   "id": "f80841fb",
   "metadata": {},
   "outputs": [
    {
     "name": "stdout",
     "output_type": "stream",
     "text": [
      "   Aspect Aspect_Sector\n",
      "0      51            NE\n",
      "1      56            NE\n",
      "2     139            SE\n",
      "3     155            SE\n",
      "4      45            NE\n"
     ]
    }
   ],
   "source": [
    "\n",
    "# Define the bin edges for each sector (in degrees)\n",
    "bin_edges = [0,  22.5,  67.5, 112.5, 157.5, 202.5, 247.5, 292.5, 337.5, 360]\n",
    "\n",
    "# Define labels for each sector\n",
    "bin_labels = ['N1', 'NE', 'E', 'SE', 'S', 'SW', 'W', 'NW', 'N2']\n",
    "\n",
    "# Create a new column 'Aspect_Sector' to store the discretized aspect\n",
    "test_full['Aspect_Sector'] = pd.cut(test_full['Aspect'], bins=bin_edges, labels=bin_labels, include_lowest=True)\n",
    "\n",
    "# Replace 'N1' and 'N2' labels with 'N'\n",
    "test_full['Aspect_Sector'].replace({'N1': 'N', 'N2': 'N'}, inplace=True)\n",
    "\n",
    "# If you want to convert the 'Aspect_Sector' column to categorical type\n",
    "test_full['Aspect_Sector'] = test_full['Aspect_Sector'].astype('category')\n",
    "\n",
    "# Display the first few rows of the DataFrame to verify the changes\n",
    "print(test_full[['Aspect', 'Aspect_Sector']].head())\n"
   ]
  },
  {
   "cell_type": "code",
   "execution_count": 9,
   "id": "4a4419f1",
   "metadata": {},
   "outputs": [],
   "source": [
    "dummy_aspect = pd.get_dummies(test_full['Aspect_Sector'], prefix='Aspect_Sector', dtype=int)\n",
    "test_full = test_full.merge(dummy_aspect, right_index=True, left_index=True)"
   ]
  },
  {
   "cell_type": "markdown",
   "id": "75dea966",
   "metadata": {},
   "source": [
    "# Aspect / Hillshade Engineering"
   ]
  },
  {
   "cell_type": "code",
   "execution_count": 10,
   "id": "926d1fab",
   "metadata": {},
   "outputs": [],
   "source": [
    "\n",
    "def categorize_aspect(aspect):\n",
    "    if 0 <= aspect <= 180:\n",
    "        return 1\n",
    "    elif 180 < aspect <= 360:\n",
    "        return -1\n",
    "\n",
    "    \n",
    "#Bin Aspect 0-180, 180-360\n",
    "def bin_aspect(df):\n",
    "    df['Binned_Aspect'] = df['Aspect'].apply(categorize_aspect)\n",
    "    return df\n",
    "\n",
    "#Calculate Slope times aspect binned1 or -1 for each direction in respect to sunset and sunrising\n",
    "def calculate_slope_aspect(df):\n",
    "    df['Slope_Aspect'] = df['Slope'] * df['Binned_Aspect']\n",
    "    return df\n",
    "\n",
    "def calculate_hillshade_slope_Aspect(df):\n",
    "    df['Hillshade_3_9_Slope_Aspect'] = df['Hillshade_3pm'] * df['Slope_Aspect'] + df['Hillshade_9am'] * df['Slope_Aspect']\n",
    "    df['Hillshade_Noon_Slope_Aspect'] = df['Hillshade_Noon'] * df['Slope_Aspect']\n",
    "    return df\n",
    "    \n",
    "def calculate_hillshade_slope(df):\n",
    "    df['Hillshade_3_9_Slope'] = df['Hillshade_3pm'] * df['Slope'] + df['Hillshade_9am'] * df['Slope']\n",
    "    df['Hillshade_Noon_Slope']= df['Hillshade_Noon'] * df['Slope']\n",
    "    return df\n",
    "\n",
    "\n",
    "test_full = bin_aspect(test_full)\n",
    "test_full = calculate_slope_aspect(test_full)\n",
    "test_full = calculate_hillshade_slope_Aspect(test_full)\n",
    "test_full = calculate_hillshade_slope(test_full)\n"
   ]
  },
  {
   "cell_type": "code",
   "execution_count": null,
   "id": "c0f919ca",
   "metadata": {},
   "outputs": [],
   "source": []
  },
  {
   "cell_type": "code",
   "execution_count": 12,
   "id": "01875661",
   "metadata": {},
   "outputs": [
    {
     "name": "stderr",
     "output_type": "stream",
     "text": [
      "/Users/nicolasschroeder/opt/anaconda3/lib/python3.9/site-packages/pandas/core/arraylike.py:396: RuntimeWarning: overflow encountered in exp\n",
      "  result = getattr(ufunc, method)(*inputs, **kwargs)\n"
     ]
    }
   ],
   "source": [
    "import pandas as pd\n",
    "import math\n",
    "\n",
    "# Assuming df is your DataFrame with the 'elevation' feature\n",
    "\n",
    "# Function to generate features\n",
    "def generate_features(df):\n",
    "    # Feature 1: Elevation squared\n",
    "    df['elevation_squared'] = df['Elevation'] ** 2\n",
    "    \n",
    "    # Feature 2: Elevation cubed\n",
    "    df['elevation_cubed'] = df['Elevation'] ** 3\n",
    "    \n",
    "    # Feature 3: Log of elevation (if elevation > 0)\n",
    "    df['log_elevation'] = df['Elevation'].apply(lambda x: math.log(x) if x > 0 else 0)\n",
    "    \n",
    "    # Feature 4: Square root of elevation (if elevation > 0)\n",
    "    df['sqrt_elevation'] = df['Elevation'].apply(lambda x: math.sqrt(x) if x > 0 else 0)\n",
    "    \n",
    "    # Feature 5: Reciprocal of elevation (if elevation != 0)\n",
    "    df['reciprocal_elevation'] = df['Elevation'].apply(lambda x: 1/x if x != 0 else 0)\n",
    "    \n",
    "    # Feature 6: Binary indicator for positive elevation\n",
    "    df['positive_elevation'] = df['Elevation'].apply(lambda x: 1 if x > 0 else 0)\n",
    "    \n",
    "    # Feature 7: Binary indicator for negative elevation\n",
    "    df['negative_elevation'] = df['Elevation'].apply(lambda x: 1 if x < 0 else 0)\n",
    "    \n",
    "    # Feature 8: Binning of elevation (example: into 5 bins)\n",
    "    df['elevation_bin'] = pd.cut(df['Elevation'], bins=5, labels=False)\n",
    "\n",
    "    # Feature 9: Binary indicator for extreme elevations (example: elevation > 95th percentile)\n",
    "    percentile = 85\n",
    "    df['extreme_elevation'] = (df['Elevation'] > np.percentile(df['Elevation'], percentile)).astype(int)\n",
    "    \n",
    "    # Feature 3: Natural logarithm of elevation (if elevation > 0)\n",
    "    df['log_elevation'] = df['Elevation'].apply(lambda x: np.log(x) if x > 0 else 0)\n",
    "\n",
    "    \n",
    "    return df\n",
    "\n",
    "# Apply feature generation function\n",
    "test_full = generate_features(test_full)\n"
   ]
  },
  {
   "cell_type": "markdown",
   "id": "06e07da3",
   "metadata": {},
   "source": [
    "# Exporting Final Data"
   ]
  },
  {
   "cell_type": "code",
   "execution_count": 13,
   "id": "15cd753a",
   "metadata": {},
   "outputs": [],
   "source": [
    "test_full.to_csv(\"Data/test_engineered.csv\", index=False)"
   ]
  },
  {
   "cell_type": "code",
   "execution_count": null,
   "id": "60daa97d",
   "metadata": {},
   "outputs": [],
   "source": []
  }
 ],
 "metadata": {
  "kernelspec": {
   "display_name": "Python 3 (ipykernel)",
   "language": "python",
   "name": "python3"
  },
  "language_info": {
   "codemirror_mode": {
    "name": "ipython",
    "version": 3
   },
   "file_extension": ".py",
   "mimetype": "text/x-python",
   "name": "python",
   "nbconvert_exporter": "python",
   "pygments_lexer": "ipython3",
   "version": "3.9.7"
  }
 },
 "nbformat": 4,
 "nbformat_minor": 5
}
